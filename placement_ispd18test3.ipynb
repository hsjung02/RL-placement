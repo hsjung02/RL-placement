{
  "cells": [
    {
      "cell_type": "markdown",
      "metadata": {
        "id": "V2awCVepeDub"
      },
      "source": [
        "0. Check Dependencies"
      ]
    },
    {
      "cell_type": "code",
      "execution_count": 226,
      "metadata": {
        "id": "Fv0mhmQId-Q1"
      },
      "outputs": [],
      "source": [
        "import torch\n",
        "import torch.nn as nn\n",
        "import torch.optim as optim\n",
        "import torch.nn.functional as F\n",
        "import torch.distributions as distributions\n",
        "import numpy as np\n",
        "import matplotlib.pyplot as plt\n",
        "import pickle"
      ]
    },
    {
      "cell_type": "markdown",
      "metadata": {
        "id": "U3sPZsV5eJnN"
      },
      "source": [
        "1. Define Environment"
      ]
    },
    {
      "cell_type": "code",
      "execution_count": 227,
      "metadata": {
        "id": "n7KgrNUpeK7s"
      },
      "outputs": [],
      "source": [
        "class Canvas(object):\n",
        "  def __init__(self, adjacency_matrix:list, cells:dict, macro_indices:list, std_indices:list, canvas_size:int, reward_weights:list):\n",
        "\n",
        "    self.canvas_size = canvas_size\n",
        "    self.adjacency_matrix = adjacency_matrix\n",
        "    self.cell_num = len(cells)\n",
        "    self.cells = cells\n",
        "    self.macro_indices = macro_indices\n",
        "    self.std_indices = std_indices\n",
        "    self.reward_weights = np.array(reward_weights)\n",
        "\n",
        "    self.canvas = np.array([[-1 for i in range(self.canvas_size)] for j in range(self.canvas_size)])\n",
        "    self.density_grid = np.array([[0 for i in range(self.canvas_size-1)] for j in range(self.canvas_size-1)])\n",
        "    self.cell_place = np.array([[-1,-1] for cell in range(self.cell_num)])  \n",
        "\n",
        "    self.macro_idx_in_macro_array = 0\n",
        "    self.static_features = self.get_static_features()\n",
        "\n",
        "    self.color_list = [np.random.randint(256, size=3) for i in range(self.cell_num+2)]\n",
        "    self.color_list[0] = [255,255,255]\n",
        "\n",
        "  def reset(self):\n",
        "    self.canvas = np.array([[-1 for i in range(self.canvas_size)] for j in range(self.canvas_size)])\n",
        "    self.density_grid = np.array([[0 for i in range(self.canvas_size-1)] for j in range(self.canvas_size-1)])\n",
        "    self.cell_place = np.array([[-1,-1] for cell in range(self.cell_num)])  \n",
        "    self.macro_idx_in_macro_array = 0\n",
        "    return self.get_all_features()\n",
        "\n",
        "  def place_macro(self, node_idx:int, action:list):\n",
        "\n",
        "    for y in range(action[0]-int(self.cells[node_idx]['height']-1)//2, action[0]+int(self.cells[node_idx]['height'])//2+1):\n",
        "      for x in range(action[1]-int(self.cells[node_idx]['width']-1)//2,action[1]+int(self.cells[node_idx]['width'])//2+1):\n",
        "        try:\n",
        "          self.canvas[y][x] = node_idx\n",
        "        except IndexError:\n",
        "          pass\n",
        "        try:\n",
        "          if y>0 and x>0:\n",
        "            self.density_grid[y-1][x-1] += 1\n",
        "        except IndexError:\n",
        "          pass\n",
        "        try:\n",
        "          if y>0:\n",
        "            self.density_grid[y-1][x] += 1\n",
        "        except IndexError:\n",
        "          pass\n",
        "        try:\n",
        "          if x>0:\n",
        "            self.density_grid[y][x-1] += 1\n",
        "        except IndexError:\n",
        "          pass\n",
        "        try:\n",
        "          self.density_grid[y][x] += 1\n",
        "        except IndexError:\n",
        "          pass\n",
        "\n",
        "    self.canvas[action[0]][action[1]] = node_idx\n",
        "    self.cell_place[node_idx] = action\n",
        "\n",
        "    return\n",
        "\n",
        "  def place_std(self):\n",
        "    for std in self.std_indices:\n",
        "      canvas = self.get_node_mask(std)\n",
        "      flag = 0\n",
        "      for i in range(self.canvas_size):\n",
        "        for j in range(self.canvas_size):\n",
        "          if flag == 1:\n",
        "            break\n",
        "          for j in range(self.canvas_size):\n",
        "            if canvas[i][j] == 1:\n",
        "              self.place_macro(std, [i,j])\n",
        "              flag = 1\n",
        "              break\n",
        "    return\n",
        "\n",
        "  def get_static_features(self):\n",
        "    features = []\n",
        "    features.append(len(self.macro_indices))\n",
        "\n",
        "    for i in range(self.cell_num):\n",
        "      if i in self.macro_indices:\n",
        "        features.append(1)\n",
        "      else:\n",
        "        features.append(0)\n",
        "    \n",
        "    for i in self.adjacency_matrix:\n",
        "      for j in i:\n",
        "        features.append(j)\n",
        "\n",
        "      features.append(self.canvas_size)\n",
        "\n",
        "      return features\n",
        "\n",
        "  def get_dynamic_features(self):\n",
        "    features = []\n",
        "    features.append(self.macro_indices[self.macro_idx_in_macro_array])\n",
        "    for i in self.canvas:\n",
        "      for j in i:\n",
        "        features.append(j)\n",
        "\n",
        "    return features\n",
        "\n",
        "  def get_all_features(self):\n",
        "    static_features = self.static_features\n",
        "    dynamic_features = self.get_dynamic_features()\n",
        "\n",
        "    return np.array(static_features + dynamic_features)\n",
        "\n",
        "  def get_node_mask(self, node_idx:int):\n",
        "\n",
        "    mask = np.array([[1 if i==-1 else 0 for i in j] for j in self.canvas])\n",
        "\n",
        "    # #find occupied site from the canvas and do not place near there\n",
        "    # occupied = np.where(self.canvas!=-1)\n",
        "    # s = len(occupied[0])\n",
        "    # for i in range(s):\n",
        "    #   mask[max(0, occupied[0][i]-int(self.cells[node_idx]['height'])//2):min(self.canvas_size,occupied[0][i]+int(self.cells[node_idx]['height']+1)//2),max(0, occupied[1][i]-int(self.cells[node_idx]['width'])//2):min(self.canvas_size,occupied[1][i]+int(self.cells[node_idx]['width']+1)//2)] = 0\n",
        "\n",
        "    #cannot place near edges\n",
        "    mask[0:int(self.cells[node_idx]['height']-1)//2,0:self.canvas_size] = 0\n",
        "    mask[self.canvas_size-1-int(self.cells[node_idx]['height']-1)//2: self.canvas_size,0:self.canvas_size] = 0\n",
        "    mask[0:self.canvas_size,0:int(self.cells[node_idx]['width']-1)//2] = 0\n",
        "    mask[0:self.canvas_size,self.canvas_size-1-int(self.cells[node_idx]['width']-1)//2: self.canvas_size] = 0\n",
        "\n",
        "    #density constraint\n",
        "    dense = np.where(self.density_grid>=2)\n",
        "    s = len(dense[0])\n",
        "    for x in range(s):\n",
        "     i = dense[0][x]\n",
        "     j = dense[1][x]\n",
        "     mask[max(0, i-int(self.cells[node_idx]['height'])//2-1):min(self.canvas_size,i+int(self.cells[node_idx]['height']+1)//2+1), max(0, j-int(self.cells[node_idx]['width'])//2-1):min(self.canvas_size,j+int(self.cells[node_idx]['width']+1)//2+1)] = 0\n",
        "\n",
        "\n",
        "    return mask\n",
        "\n",
        "  def get_reward(self):\n",
        "\n",
        "    cost = np.array([self.get_wirelength(), self.get_congestion(), self.get_density()])\n",
        "    \n",
        "    return -1*np.dot(self.reward_weights, cost)    \n",
        "\n",
        "  def get_wirelength(self):\n",
        "\n",
        "    wirelength = 0\n",
        "    for i in range(len(self.adjacency_matrix)):\n",
        "      if self.cell_place[i][0] == -1 and self.cell_place[i][1] == -1:\n",
        "        continue\n",
        "      for j in range(i,len(self.adjacency_matrix[0])):\n",
        "        if self.cell_place[j][0] == -1 and self.cell_place[j][1] == -1:\n",
        "          continue\n",
        "        if self.adjacency_matrix[i][j] >0 and i != j:\n",
        "          wirelength += abs(self.cell_place[i][0]-self.cell_place[j][0])+abs(self.cell_place[i][1]-self.cell_place[j][1])+2\n",
        "    return wirelength\n",
        "\n",
        "  def get_congestion(self):\n",
        "\n",
        "    routing_grid = np.array([[0 for i in range(self.canvas_size-1)] for j in range(self.canvas_size-1)])\n",
        "\n",
        "    for cell1 in range(self.cell_num):\n",
        "      connected = np.where(np.array(self.adjacency_matrix[cell1])!=0)[0]\n",
        "\n",
        "      for cell2 in connected:\n",
        "        if cell2 <= cell1:\n",
        "          continue\n",
        "        routing_type = np.random.randint(2)\n",
        "        position_type = (self.cell_place[cell1][1]<=self.cell_place[cell2][1]) + (self.cell_place[cell1][0]<=self.cell_place[cell2][0])\n",
        "        x1 = min(self.cell_place[cell1][1], self.cell_place[cell2][1])\n",
        "        x2 = max(self.cell_place[cell1][1], self.cell_place[cell2][1])\n",
        "        y1 = min(self.cell_place[cell1][0], self.cell_place[cell2][0])\n",
        "        y2 = max(self.cell_place[cell1][0], self.cell_place[cell2][0])\n",
        "        if routing_type%2 == 0:\n",
        "          routing_grid[y1, x1:x2] += 1\n",
        "          if (routing_type+position_type)%2==0:\n",
        "            routing_grid[y1:y2, x2] += 1\n",
        "          else:\n",
        "            routing_grid[y1:y2, x1] += 1\n",
        "        else:\n",
        "          routing_grid[y2, x1:x2] += 1\n",
        "          if (routing_type+position_type)%2==0:\n",
        "            routing_grid[y1:y2, x2] += 1\n",
        "          else:\n",
        "            routing_grid[y1:y2, x1] += 1\n",
        "\n",
        "    congestion = np.max(routing_grid)\n",
        "\n",
        "    return congestion\n",
        "\n",
        "  def get_density(self):\n",
        "    density = 0\n",
        "    return density\n",
        "\n",
        "  def show_chip_canvas(self, mode, path):\n",
        "    image = np.array([[self.color_list[self.canvas[j//8][i//8]+1] for i in range(8*self.canvas_size)] for j in range(8*self.canvas_size)])\n",
        "    for i in range(self.cell_num):\n",
        "      for j in range(i+1, self.cell_num):\n",
        "        y = [8*self.cell_place[i][0]+3, 8*self.cell_place[j][0]+3]\n",
        "        x = [8*self.cell_place[i][1]+3, 8*self.cell_place[j][1]+3]\n",
        "        # plt.plot(x, y, color=\"red\", linewidth=0.4, alpha=0.7)\n",
        "    plt.text(50,270,\"HPWL: \"+str(self.get_wirelength()), size=\"xx-large\")\n",
        "    plt.text(50,285,\"Congestion: \"+str(self.get_congestion()), size=\"xx-large\")\n",
        "    plt.text(50,300,\"Reward: \"+str(self.get_reward()), size=\"xx-large\")\n",
        "    for i in range(self.canvas_size):\n",
        "      plt.plot([0,8*32], [8*i-1,8*i-1],c = 'gray', linestyle = '--', linewidth=0.5)\n",
        "    for j in range(self.canvas_size):\n",
        "      plt.plot([8*j-1,8*j-1], [0,8*32], c = 'gray', linestyle = '--', linewidth=0.5)\n",
        "    fig = plt.imshow(image)\n",
        "    fig.axes.get_xaxis().set_visible(False)\n",
        "    fig.axes.get_yaxis().set_visible(False)\n",
        "    if mode==\"save\":\n",
        "      plt.savefig(path)\n",
        "\n",
        "    return\n",
        "\n"
      ]
    },
    {
      "cell_type": "code",
      "execution_count": 228,
      "metadata": {
        "id": "mY3XEFZ1gZjp"
      },
      "outputs": [],
      "source": [
        "class CircuitEnv(object):\n",
        "  INFEASIBLE_REWARD = -1e5\n",
        "\n",
        "  def __init__(self, adjacency_matrix, cells, macro_indices, std_indices, canvas_size=32, reward_weights=[1,0,0]):\n",
        "\n",
        "    self.cells = cells\n",
        "    self.macro_indices = macro_indices\n",
        "    self.std_indices = std_indices\n",
        "    self.adjacency_matrix = adjacency_matrix\n",
        "    self.canvas_size = canvas_size\n",
        "    self.reward_weights = reward_weights\n",
        "\n",
        "    self.canvas = Canvas(adjacency_matrix, cells, macro_indices, std_indices, canvas_size, reward_weights)\n",
        "\n",
        "    self.macro_idx_in_macro_array = 0\n",
        "    self.macro_num = len(macro_indices)\n",
        "    self.done = False\n",
        "    self.action_history = []\n",
        "\n",
        "    self.action_spec = canvas_size ** 2\n",
        "    self.observation_spec = len(self.canvas.get_all_features())\n",
        "\n",
        "  def reset(self):\n",
        "    self.action_history = []\n",
        "    self.done = False\n",
        "    self.macro_idx_in_macro_array = 0\n",
        "    return self.canvas.reset()\n",
        "\n",
        "  def step(self, actions):\n",
        "    \n",
        "    if self.done:\n",
        "      raise RuntimeError(\"Action taken after episode is done\")\n",
        "\n",
        "    macro_to_place = self.canvas.macro_indices[self.macro_idx_in_macro_array]\n",
        "\n",
        "    mask = self.canvas.get_node_mask(macro_to_place)\n",
        "\n",
        "    actions = actions.detach().numpy()\n",
        "    actions = actions * mask\n",
        "\n",
        "    info = {}\n",
        "    if not self.done and not np.any(actions):\n",
        "      info = {\n",
        "          'wirelength': -1.0,\n",
        "          'congestion': -1.0,\n",
        "          'density': -1.0\n",
        "      }\n",
        "      return self.reset(), self.INFEASIBLE_REWARD, True, info\n",
        "    \n",
        "\n",
        "    action = np.argmax(actions)\n",
        "    self.action_history.append(action)\n",
        "    action = [action//self.canvas_size, action%self.canvas_size]\n",
        "\n",
        "    self.canvas.place_macro(macro_to_place, action)\n",
        "    features = self.canvas.get_all_features()\n",
        "    self.macro_idx_in_macro_array += 1\n",
        "    self.canvas.macro_idx_in_macro_array += 1\n",
        "\n",
        "    \n",
        "    if self.macro_idx_in_macro_array == self.macro_num:\n",
        "      self.done = True\n",
        "    if not self.done:\n",
        "      reward = 0\n",
        "    else:\n",
        "      self.canvas.place_std()\n",
        "      reward = self.canvas.get_reward()\n",
        "      #features = self.reset()\n",
        "\n",
        "\n",
        "    return features, reward, self.done, info\n",
        "\n",
        "  def render(self, mode=\"show\", path=\"\"):\n",
        "    self.canvas.show_chip_canvas(mode, path)\n",
        "    return\n"
      ]
    },
    {
      "cell_type": "markdown",
      "metadata": {
        "id": "J4VLBeTuG03e"
      },
      "source": [
        "2. Define Agent"
      ]
    },
    {
      "cell_type": "code",
      "execution_count": 229,
      "metadata": {
        "id": "3o-bOkWZG2cm"
      },
      "outputs": [],
      "source": [
        "class Actor(nn.Module):\n",
        "    def __init__(self, input_dim, hidden_dim=64, dropout = 0.5):\n",
        "        super().__init__()\n",
        "\n",
        "        #Build Actor Network (=PolicyNet)\n",
        "        #PolicyNet gets canvas features as input and return probability distribution for each canvas spot\n",
        "        #Please implement same as the original research\n",
        "        self.fc_1 = nn.Linear(input_dim, hidden_dim)\n",
        "        self.fc_2 = nn.Linear(hidden_dim, 32)\n",
        "        self.deconv_1 = nn.ConvTranspose2d(32, 16, 2, stride=2)\n",
        "        self.deconv_2 = nn.ConvTranspose2d(16, 8, 2, stride=2)\n",
        "        self.deconv_3 = nn.ConvTranspose2d(8, 4, 2, stride=2)\n",
        "        self.deconv_4 = nn.ConvTranspose2d(4, 2, 2, stride=2)\n",
        "        self.deconv_5 = nn.ConvTranspose2d(2, 1, 2, stride=2)\n",
        "\n",
        "\n",
        "    def forward(self, x):\n",
        "        #print(x.size())\n",
        "        x = self.fc_1(x)\n",
        "        x = F.relu(x)\n",
        "        x = self.fc_2(x)\n",
        "        x = F.relu(x)\n",
        "        x = torch.reshape(x, (32,1,1))\n",
        "        x = self.deconv_1(x)\n",
        "        x = F.relu(x)\n",
        "        x = self.deconv_2(x)\n",
        "        x = F.relu(x)\n",
        "        x = self.deconv_3(x)\n",
        "        x = F.relu(x)\n",
        "        x = self.deconv_4(x)\n",
        "        x = F.relu(x)\n",
        "        x = self.deconv_5(x)\n",
        "        x = F.relu(x)\n",
        "        return x\n",
        "\n",
        "class Critic(nn.Module):\n",
        "    def __init__(self, input_dim, hidden_dim=16, output_dim=1, dropout = 0.5):\n",
        "        super().__init__()\n",
        "\n",
        "        #Build Actor Network (=Valuenet)\n",
        "        #ValueNet gets canvas features as input and return value of the state\n",
        "        #Error btw value and reward will be used to optimize PolicyNet\n",
        "        #Please implement same as the original research\n",
        "        self.fc = nn.Linear(input_dim, output_dim)\n",
        "        #self.dropout = nn.Dropout(dropout)\n",
        "\n",
        "\n",
        "    def forward(self, x):\n",
        "        x = self.fc(x)\n",
        "        #x = self.dropout(x)\n",
        "        x = F.relu(x)\n",
        "        return x"
      ]
    },
    {
      "cell_type": "code",
      "execution_count": 230,
      "metadata": {
        "id": "oJA9DZDYG6fB"
      },
      "outputs": [],
      "source": [
        "class ActorCritic(nn.Module):\n",
        "    def __init__(self, actor, critic):\n",
        "        super().__init__()\n",
        "\n",
        "        self.actor = actor\n",
        "        self.critic = critic\n",
        "\n",
        "    def forward(self, state):\n",
        "        action_pred = self.actor(state)\n",
        "        value_pred = self.critic(state)\n",
        "\n",
        "        return action_pred, value_pred"
      ]
    },
    {
      "cell_type": "code",
      "execution_count": 231,
      "metadata": {},
      "outputs": [],
      "source": [
        "def init_weights(m):\n",
        "    if type(m) == nn.Linear:\n",
        "        torch.nn.init.xavier_normal_(m.weight)\n",
        "        m.bias.data.fill_(0)"
      ]
    },
    {
      "cell_type": "markdown",
      "metadata": {
        "id": "ro9lWUjEG7A5"
      },
      "source": [
        "3. Parse Data"
      ]
    },
    {
      "cell_type": "code",
      "execution_count": 232,
      "metadata": {},
      "outputs": [],
      "source": [
        "\n",
        "with open(\"./netlist/adjacency_matrix\", \"rb\") as f:\n",
        "    adjacency_matrix = pickle.load(f)\n",
        "\n",
        "with open(\"./netlist/cells\", \"rb\") as f:\n",
        "    cells = pickle.load(f)\n",
        "\n",
        "with open(\"./netlist/macro_indices\", \"rb\") as f:\n",
        "    macro_indices = pickle.load(f)\n",
        "\n",
        "with open(\"./netlist/std_indices\", \"rb\") as f:\n",
        "    std_indices = pickle.load(f)"
      ]
    },
    {
      "cell_type": "code",
      "execution_count": 233,
      "metadata": {
        "id": "gdeoB-oiHEmc"
      },
      "outputs": [],
      "source": [
        "test_macros = {}\n",
        "test_stds = {}\n",
        "for macro in macro_indices:\n",
        "    test_macros[macro] = {'width':6, 'height':3}\n",
        "    #test_macros[macro] = {'width':16, 'height':5}\n",
        "for std in std_indices:\n",
        "    test_stds[std] = {'width':3, 'height':3}\n",
        "    #test_stds[std] = {'width':6, 'height':5}\n",
        "\n",
        "test_cells = test_macros | test_stds\n",
        "\n",
        "for std in std_indices:\n",
        "   macro_indices.append(std)\n",
        "std_indices = []\n",
        "\n",
        "# for macro in macro_indices:\n",
        "#     test_macros[macro] = {'width':1, 'height':1}\n",
        "# for std in std_indices:\n",
        "#     test_stds[std] = {'width':1, 'height':1}"
      ]
    },
    {
      "cell_type": "markdown",
      "metadata": {
        "id": "nNKqA2beHGMy"
      },
      "source": [
        "4. Start Learning"
      ]
    },
    {
      "cell_type": "code",
      "execution_count": 234,
      "metadata": {
        "id": "VwVu2_W8HHnv"
      },
      "outputs": [],
      "source": [
        "#utils\n",
        "#You need basic knowledges about Reinforcement Learning\n",
        "#Refer to https://github.com/bentrevett/pytorch-rl/blob/master/5%20-%20Proximal%20Policy%20Optimization%20(PPO)%20%5BCartPole%5D.ipynb\n",
        "def calculate_returns(rewards, discount, normalize=True):\n",
        "    \n",
        "    returns = []\n",
        "    R = 0\n",
        "\n",
        "    for r in reversed(rewards):\n",
        "        R = r + R*discount\n",
        "        returns.insert(0, R)\n",
        "\n",
        "    returns = torch.tensor(returns)\n",
        "\n",
        "    if normalize:\n",
        "        returns = (returns - returns.mean()) / returns.std()\n",
        "\n",
        "    return returns\n",
        "\n",
        "def calculate_advantages(returns, values, normalize = True):\n",
        "    \n",
        "    advantages = returns - values\n",
        "\n",
        "    if normalize:\n",
        "        advantages = (advantages - advantages.mean()) / advantages.std()\n",
        "\n",
        "    return advantages\n",
        "\n",
        "def update_policy(policy, states, actions, log_prob_actions, advantages, returns, optimizer, ppo_steps, ppo_clip):\n",
        "\n",
        "    total_policy_loss = 0\n",
        "    total_value_loss = 0\n",
        "\n",
        "    advantages = advantages.detach()\n",
        "    log_prob_actions = log_prob_actions.detach()\n",
        "    actions = actions.detach()\n",
        "\n",
        "    for _ in range(ppo_steps):\n",
        "\n",
        "        action_pred = torch.tensor([])\n",
        "        value_pred = torch.tensor([])\n",
        "\n",
        "        for i in range(len(states)):\n",
        "            a, v = policy(states[i])\n",
        "            action_pred = torch.cat((action_pred, a))\n",
        "            value_pred = torch.cat((value_pred, v))\n",
        "        #action_pred, value_pred = policy(states)\n",
        "        #value_pred = value_pred.squeeze(-1)\n",
        "\n",
        "        action_prob = F.softmax(action_pred, dim=-1)\n",
        "        dist = distributions.Categorical(action_prob)\n",
        "\n",
        "        new_log_prob_actions = dist.log_prob(actions)\n",
        "\n",
        "        policy_ratio = (new_log_prob_actions - log_prob_actions).exp()\n",
        "\n",
        "        #print(policy_ratio.size(), advantages.size())\n",
        "\n",
        "        policy_loss_1 = policy_ratio * advantages\n",
        "        policy_loss_2 = torch.clamp(policy_ratio, min = 1.0 - ppo_clip, max = 1.0 + ppo_clip) * advantages\n",
        "        \n",
        "        policy_loss = - torch.min(policy_loss_1, policy_loss_2).sum()\n",
        "        \n",
        "        value_loss = F.smooth_l1_loss(returns, value_pred).sum()\n",
        "    \n",
        "        optimizer.zero_grad()\n",
        "\n",
        "        policy_loss.backward()\n",
        "        value_loss.backward()\n",
        "\n",
        "        optimizer.step()\n",
        "    \n",
        "        total_policy_loss += policy_loss.item()\n",
        "        total_value_loss += value_loss.item()\n",
        "\n",
        "    return total_policy_loss / ppo_steps, total_value_loss / ppo_steps\n",
        "\n",
        "def evaluate(env, policy):\n",
        "    \n",
        "    policy.eval()\n",
        "    \n",
        "    rewards = []\n",
        "    done = False\n",
        "    episode_reward = 0\n",
        "\n",
        "    state = env.reset()\n",
        "\n",
        "    while not done:\n",
        "\n",
        "        state = torch.FloatTensor(state).unsqueeze(0)\n",
        "\n",
        "        with torch.no_grad():\n",
        "        \n",
        "            action_pred, _ = policy(state)\n",
        "\n",
        "            action_prob = F.softmax(action_pred, dim = -1)\n",
        "                \n",
        "        #action = torch.argmax(action_prob, dim = -1)\n",
        "                \n",
        "        state, reward, done, _ = env.step(action_prob[0])\n",
        "\n",
        "        episode_reward += reward\n",
        "        \n",
        "    return episode_reward"
      ]
    },
    {
      "cell_type": "code",
      "execution_count": 235,
      "metadata": {
        "id": "9MtS42sKHJgf"
      },
      "outputs": [],
      "source": [
        "def train(env, policy, optimizer, discount, ppo_steps, ppo_clip):\n",
        "    \n",
        "    policy.train()\n",
        "    \n",
        "    states = []\n",
        "    actions = []\n",
        "    log_prob_actions = []\n",
        "    values = []\n",
        "    rewards = []\n",
        "    done = False\n",
        "    episode_reward = 0\n",
        "\n",
        "    state = env.reset()\n",
        "\n",
        "    while not done:\n",
        "\n",
        "        state = torch.FloatTensor(state).unsqueeze(0)\n",
        "\n",
        "        states.append(state)\n",
        "\n",
        "        action_pred, value_pred = policy(state)\n",
        "\n",
        "        action_prob = F.softmax(action_pred, dim=-1)\n",
        "\n",
        "        dist = distributions.Categorical(action_prob)\n",
        "\n",
        "        action = dist.sample()\n",
        "\n",
        "        log_prob_action = dist.log_prob(action)\n",
        "\n",
        "        #print(action_prob[0].size())\n",
        "\n",
        "        #print(action)\n",
        "\n",
        "        state, reward, done, _ = env.step(action_prob[0])\n",
        "\n",
        "        actions.append(action)\n",
        "        log_prob_actions.append(log_prob_action)\n",
        "        values.append(value_pred)\n",
        "        rewards.append(reward)\n",
        "\n",
        "        episode_reward += reward\n",
        "\n",
        "    states = torch.cat(states)\n",
        "    actions = torch.cat(actions)    \n",
        "    log_prob_actions = torch.cat(log_prob_actions)\n",
        "    values = torch.cat(values).squeeze(-1)\n",
        "    \n",
        "    returns = calculate_returns(rewards, discount)\n",
        "    advantages = calculate_advantages(returns, values)\n",
        "\n",
        "    if len(advantages) != env.canvas.canvas_size:\n",
        "        advantages = torch.cat((advantages, torch.tensor([-2*env.canvas.canvas_size**2 for i in range(env.canvas.canvas_size-len(advantages))])))\n",
        "    \n",
        "    policy_loss, value_loss = update_policy(policy, states, actions, log_prob_actions, advantages, returns, optimizer, ppo_steps, ppo_clip)\n",
        "\n",
        "    return policy_loss, value_loss, episode_reward"
      ]
    },
    {
      "cell_type": "code",
      "execution_count": 236,
      "metadata": {
        "id": "2trCcXf8HOYc"
      },
      "outputs": [
        {
          "data": {
            "text/plain": [
              "<torch._C.Generator at 0x245257a8c90>"
            ]
          },
          "execution_count": 236,
          "metadata": {},
          "output_type": "execute_result"
        }
      ],
      "source": [
        "train_env = CircuitEnv(adjacency_matrix, test_cells, macro_indices, std_indices)\n",
        "test_env = CircuitEnv(adjacency_matrix, test_cells, macro_indices, std_indices)\n",
        "SEED = 500\n",
        "np.random.seed(SEED)\n",
        "torch.manual_seed(SEED)"
      ]
    },
    {
      "cell_type": "code",
      "execution_count": 237,
      "metadata": {
        "id": "WH5l4qDQHpvH"
      },
      "outputs": [],
      "source": [
        "INPUT_DIM = train_env.observation_spec\n",
        "OUTPUT_DIM = train_env.action_spec\n",
        "\n",
        "actor = Actor(INPUT_DIM)\n",
        "critic = Critic(INPUT_DIM, 1)\n",
        "\n",
        "policy = ActorCritic(actor, critic)"
      ]
    },
    {
      "cell_type": "code",
      "execution_count": 238,
      "metadata": {
        "id": "BNeHM1OQHqgj"
      },
      "outputs": [
        {
          "data": {
            "text/plain": [
              "ActorCritic(\n",
              "  (actor): Actor(\n",
              "    (fc_1): Linear(in_features=1043, out_features=64, bias=True)\n",
              "    (fc_2): Linear(in_features=64, out_features=32, bias=True)\n",
              "    (deconv_1): ConvTranspose2d(32, 16, kernel_size=(2, 2), stride=(2, 2))\n",
              "    (deconv_2): ConvTranspose2d(16, 8, kernel_size=(2, 2), stride=(2, 2))\n",
              "    (deconv_3): ConvTranspose2d(8, 4, kernel_size=(2, 2), stride=(2, 2))\n",
              "    (deconv_4): ConvTranspose2d(4, 2, kernel_size=(2, 2), stride=(2, 2))\n",
              "    (deconv_5): ConvTranspose2d(2, 1, kernel_size=(2, 2), stride=(2, 2))\n",
              "  )\n",
              "  (critic): Critic(\n",
              "    (fc): Linear(in_features=1043, out_features=1, bias=True)\n",
              "  )\n",
              ")"
            ]
          },
          "execution_count": 238,
          "metadata": {},
          "output_type": "execute_result"
        }
      ],
      "source": [
        "policy.apply(init_weights)"
      ]
    },
    {
      "cell_type": "code",
      "execution_count": 239,
      "metadata": {
        "id": "vNusqd1kHrtN"
      },
      "outputs": [],
      "source": [
        "def place(env, policy, path):\n",
        "    \n",
        "    policy.eval()\n",
        "    \n",
        "    rewards = []\n",
        "    done = False\n",
        "\n",
        "    state = env.reset()\n",
        "\n",
        "    while not done:\n",
        "\n",
        "        state = torch.FloatTensor(state).unsqueeze(0)\n",
        "\n",
        "        with torch.no_grad():\n",
        "        \n",
        "            action_pred, _ = policy(state)\n",
        "\n",
        "            action_prob = F.softmax(action_pred, dim = -1)\n",
        "                \n",
        "        #action = torch.argmax(action_prob, dim = -1)\n",
        "                \n",
        "        state, reward, done, _ = env.step(action_prob[0])\n",
        "\n",
        "        rewards.append(reward)\n",
        "\n",
        "    env.render(mode=\"save\", path=path)\n",
        "        \n",
        "    return rewards"
      ]
    },
    {
      "cell_type": "code",
      "execution_count": 240,
      "metadata": {
        "id": "eISbs2AFHtbL"
      },
      "outputs": [
        {
          "name": "stdout",
          "output_type": "stream",
          "text": [
            "-318\n"
          ]
        },
        {
          "data": {
            "image/png": "[encoded data removed]",
            "text/plain": [
              "<Figure size 640x480 with 1 Axes>"
            ]
          },
          "metadata": {},
          "output_type": "display_data"
        }
      ],
      "source": [
        "env = CircuitEnv(adjacency_matrix, test_cells, macro_indices, std_indices)\n",
        "rewards = place(env, policy, \"initial\")\n",
        "print(rewards[-1])"
      ]
    },
    {
      "cell_type": "code",
      "execution_count": 241,
      "metadata": {
        "id": "-raPpo3-HyDi"
      },
      "outputs": [
        {
          "name": "stdout",
          "output_type": "stream",
          "text": [
            "| Episode:    1 | Initial Train Reward: -318.0 | Initial Test Reward: -298.0 |\n",
            "| Episode:  100 | Mean Train Rewards: -311.1 | Mean Test Rewards: -310.6 |\n",
            "| Episode:  200 | Mean Train Rewards: -356.2 | Mean Test Rewards: -354.1 |\n",
            "| Episode:  300 | Mean Train Rewards: -366.3 | Mean Test Rewards: -366.3 |\n",
            "Reached reward threshold in 393 episodes\n"
          ]
        },
        {
          "data": {
            "image/png": "[encoded data removed]",
            "text/plain": [
              "<Figure size 640x480 with 1 Axes>"
            ]
          },
          "metadata": {},
          "output_type": "display_data"
        }
      ],
      "source": [
        "#This requires long time\n",
        "LEARNING_RATE = 0.01\n",
        "\n",
        "optimizer = optim.Adam(policy.parameters(), lr = LEARNING_RATE)\n",
        "\n",
        "MAX_EPISODES = 3000\n",
        "DISCOUNT_FACTOR = 0.9999\n",
        "N_TRIALS = 25\n",
        "REWARD_THRESHOLD = -290\n",
        "PRINT_EVERY = 100\n",
        "PPO_STEPS = 1\n",
        "PPO_CLIP = 0.2\n",
        "\n",
        "train_rewards = []\n",
        "test_rewards = []\n",
        "\n",
        "for episode in range(1, MAX_EPISODES+1):\n",
        "    \n",
        "    policy_loss, value_loss, train_reward = train(train_env, policy, optimizer, DISCOUNT_FACTOR, PPO_STEPS, PPO_CLIP)\n",
        "    \n",
        "    test_reward = evaluate(test_env, policy)\n",
        "    \n",
        "    train_rewards.append(train_reward)\n",
        "    test_rewards.append(test_reward)\n",
        "    \n",
        "    mean_train_rewards = np.mean(train_rewards[-N_TRIALS:])\n",
        "    mean_test_rewards = np.mean(test_rewards[-N_TRIALS:])\n",
        "    \n",
        "    if episode == 1:\n",
        "        print(f'| Episode: {episode:4} | Initial Train Reward: {train_reward:5.1f} | Initial Test Reward: {test_reward:5.1f} |')\n",
        "\n",
        "    if episode % PRINT_EVERY == 0:\n",
        "        print(f'| Episode: {episode:4} | Mean Train Rewards: {mean_train_rewards:5.1f} | Mean Test Rewards: {mean_test_rewards:5.1f} |')\n",
        "    \n",
        "    if mean_test_rewards >= REWARD_THRESHOLD:\n",
        "        \n",
        "        print(f'Reached reward threshold in {episode} episodes')\n",
        "        test_env.render(mode=\"save\", path=\"after_train\")\n",
        "        break"
      ]
    },
    {
      "cell_type": "code",
      "execution_count": 242,
      "metadata": {
        "id": "F7POu7fnHztX"
      },
      "outputs": [
        {
          "name": "stdout",
          "output_type": "stream",
          "text": [
            "-282\n"
          ]
        },
        {
          "data": {
            "image/png": "[encoded data removed]",
            "text/plain": [
              "<Figure size 640x480 with 1 Axes>"
            ]
          },
          "metadata": {},
          "output_type": "display_data"
        }
      ],
      "source": [
        "env = CircuitEnv(adjacency_matrix, test_cells, macro_indices, std_indices)\n",
        "rewards = place(env, policy, \"final\")\n",
        "print(rewards[-1])"
      ]
    },
    {
      "cell_type": "code",
      "execution_count": 243,
      "metadata": {},
      "outputs": [
        {
          "name": "stdout",
          "output_type": "stream",
          "text": [
            "tensor([[[5.6686e-02, 5.6686e-02, 0.0000e+00,  ..., 0.0000e+00,\n",
            "          5.6529e+00, 0.0000e+00],\n",
            "         [5.6686e-02, 5.6686e-02, 1.7024e-02,  ..., 8.8568e-02,\n",
            "          1.8018e+00, 1.4699e-01],\n",
            "         [0.0000e+00, 0.0000e+00, 6.6475e-02,  ..., 5.6686e-02,\n",
            "          5.6686e-02, 5.6686e-02],\n",
            "         ...,\n",
            "         [0.0000e+00, 2.0844e+02, 2.5355e+01,  ..., 1.0813e-01,\n",
            "          2.9196e+00, 2.0484e-01],\n",
            "         [0.0000e+00, 0.0000e+00, 2.1976e+02,  ..., 5.6686e-02,\n",
            "          5.6686e-02, 5.6686e-02],\n",
            "         [0.0000e+00, 2.9349e+02, 6.8566e+01,  ..., 5.6686e-02,\n",
            "          5.6686e-02, 5.6686e-02]]], grad_fn=<ReluBackward0>)\n"
          ]
        }
      ],
      "source": [
        "env = CircuitEnv(adjacency_matrix, test_cells, macro_indices, std_indices)\n",
        "state = env.reset()\n",
        "state = torch.FloatTensor(state).unsqueeze(0)\n",
        "print(policy(state)[0])"
      ]
    },
    {
      "cell_type": "code",
      "execution_count": 244,
      "metadata": {
        "id": "v6Mx2yV3H1MN"
      },
      "outputs": [],
      "source": [
        "torch.save(policy, \"placement_ispd18test3.pt\")"
      ]
    }
  ],
  "metadata": {
    "colab": {
      "provenance": []
    },
    "kernelspec": {
      "display_name": "capstone",
      "language": "python",
      "name": "python3"
    },
    "language_info": {
      "codemirror_mode": {
        "name": "ipython",
        "version": 3
      },
      "file_extension": ".py",
      "mimetype": "text/x-python",
      "name": "python",
      "nbconvert_exporter": "python",
      "pygments_lexer": "ipython3",
      "version": "3.9.13"
    },
    "vscode": {
      "interpreter": {
        "hash": "99965f0ddce8c46ed177d65eb02691b3e745c95ee3422a1aeacfbebed4cf85aa"
      }
    }
  },
  "nbformat": 4,
  "nbformat_minor": 0
}
